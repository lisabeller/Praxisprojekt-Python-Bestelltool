{
 "cells": [
  {
   "cell_type": "markdown",
   "metadata": {},
   "source": [
    "# Aufgabe 2 - Restaurant Bestelltool"
   ]
  },
  {
   "cell_type": "code",
   "execution_count": 1,
   "metadata": {},
   "outputs": [],
   "source": [
    "# Importe\n",
    "import pandas as pd\n",
    "from datetime import datetime"
   ]
  },
  {
   "cell_type": "markdown",
   "metadata": {},
   "source": [
    "### Speisekarte"
   ]
  },
  {
   "cell_type": "code",
   "execution_count": null,
   "metadata": {},
   "outputs": [],
   "source": [
    "# Funktion zum Laden von Speisekarte\n",
    "def speisekarte_laden():\n",
    "    \"\"\"\n",
    "    Lädt die Speisekarte aus einer CSV-Datei.\n",
    "\n",
    "    Args:\n",
    "        Name der CSV-Datei, die die Speisekarte enthält.\n",
    "\n",
    "    Returns:\n",
    "        pandas.DataFrame: Ein DataFrame, das die Speisekarte enthält, wobei die Speisen-Nummer der Zeilen-Index ist.\n",
    "        None: Wenn die Datei nicht gefunden wird.\n",
    "    \"\"\"\n",
    "    \n",
    "    try:\n",
    "        speisekarte = pd.read_csv(\"Speisekarte.csv\" , \n",
    "                                  sep=\";\", \n",
    "                                  index_col=\"SpeiseID\")\n",
    "        return speisekarte\n",
    "    \n",
    "    except FileNotFoundError:\n",
    "        print(\"Die Datei 'Speisekarte.csv' wurde nicht gefunden.\")\n",
    "        return None\n",
    "    \n",
    "# Beispiel: Speisekarte laden\n",
    "speisekarte = speisekarte_laden()"
   ]
  },
  {
   "cell_type": "code",
   "execution_count": null,
   "metadata": {},
   "outputs": [],
   "source": [
    "# Funktion zum Anzeigen der Speisekarte\n",
    "def speisekarte_zeigen(speisekarte):\n",
    "    \"\"\"\n",
    "    Zeigt die geladene Speisekarte an.\n",
    "\n",
    "    Args:\n",
    "        speisekarte (pandas.DataFrame): Ein DataFrame, das die Speisekarte enthält.\n",
    "\n",
    "    Returns:\n",
    "        None\n",
    "    \"\"\"\n",
    "    \n",
    "    if speisekarte is not None:\n",
    "        return speisekarte\n",
    "    else:\n",
    "        print(\"Speisekarte konnte nicht geladen werden.\")\n",
    "\n",
    "# Beispiel: Speisekarte anzeigen\n",
    "speisekarte_zeigen(speisekarte)"
   ]
  },
  {
   "cell_type": "markdown",
   "metadata": {},
   "source": [
    "### Bestellungen\n",
    "\n",
    "- ID\n",
    "- Datum\n",
    "- Tischnummer\n",
    "- SpeiseID\n",
    "- Menge\n",
    "- Status"
   ]
  },
  {
   "cell_type": "code",
   "execution_count": null,
   "metadata": {},
   "outputs": [],
   "source": [
    "# Funktion neue Bestellung\n",
    "# Eingabe: SpeiseID, Tischnummer, Menge, Bestellstatus(offen)\n",
    "# Ausgabe: DataFrame mit Zeilen für jede Speise, Spalten:  BestellID, Status\n",
    "# "
   ]
  },
  {
   "cell_type": "code",
   "execution_count": null,
   "metadata": {},
   "outputs": [],
   "source": [
    "# Einzelne Bestellungen zu DataFrame Bestellungen_df hinzufügen"
   ]
  },
  {
   "cell_type": "code",
   "execution_count": null,
   "metadata": {},
   "outputs": [],
   "source": [
    "# Funktion Bestellungen zu stornieren\n",
    "# Bestellstatus aktualisieren aus storno\n",
    "\n",
    "def bestellung_storno(bestellID, bestellungen_df):\n",
    "    \n"
   ]
  },
  {
   "cell_type": "code",
   "execution_count": null,
   "metadata": {},
   "outputs": [],
   "source": [
    "# Bezahlfunktion\n",
    "# Bestellstatus: bezahlt"
   ]
  },
  {
   "cell_type": "code",
   "execution_count": null,
   "metadata": {},
   "outputs": [],
   "source": [
    "# Funktion Rechnung generieren\n",
    "def bestellung_bezahlen(bestellID, bestellungen_df, speisekarte, trinkgeld):\n",
    "\n",
    "\n",
    "# NettoBruttoRechner\n",
    "# Gerichte, Nettopreis, Menge, MwSt., Bruttopreis, sowie evtl. Trinkgeld"
   ]
  },
  {
   "cell_type": "code",
   "execution_count": null,
   "metadata": {},
   "outputs": [],
   "source": [
    "# Interface\n",
    "# widgets\n",
    "# streamlit, optional "
   ]
  }
 ],
 "metadata": {
  "kernelspec": {
   "display_name": "DataCraft",
   "language": "python",
   "name": "python3"
  },
  "language_info": {
   "codemirror_mode": {
    "name": "ipython",
    "version": 3
   },
   "file_extension": ".py",
   "mimetype": "text/x-python",
   "name": "python",
   "nbconvert_exporter": "python",
   "pygments_lexer": "ipython3",
   "version": "3.12.3"
  }
 },
 "nbformat": 4,
 "nbformat_minor": 2
}
