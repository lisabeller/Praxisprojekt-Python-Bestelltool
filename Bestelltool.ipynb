{
 "cells": [
  {
   "cell_type": "markdown",
   "metadata": {},
   "source": [
    "# Aufgabe 2 - Restaurant Bestelltool"
   ]
  },
  {
   "cell_type": "markdown",
   "metadata": {},
   "source": [
    "### Speisekarte"
   ]
  },
  {
   "cell_type": "code",
   "execution_count": null,
   "metadata": {},
   "outputs": [],
   "source": [
    "# Funktion zum Laden von Speisekarte"
   ]
  },
  {
   "cell_type": "code",
   "execution_count": null,
   "metadata": {},
   "outputs": [],
   "source": [
    "# Funktion zum Anzeigen der Speisekarte"
   ]
  },
  {
   "cell_type": "markdown",
   "metadata": {},
   "source": [
    "### Bestellungen\n",
    "\n",
    "- ID\n",
    "- Datum\n",
    "- Tischnummer\n",
    "- SpeiseID\n",
    "- Menge\n",
    "- Status"
   ]
  },
  {
   "cell_type": "code",
   "execution_count": null,
   "metadata": {},
   "outputs": [],
   "source": [
    "# Funktion neue Bestellung\n",
    "# Eingabe: SpeiseID, Tischnummer, Menge, Bestellstatus(offen)\n",
    "# Ausgabe: DataFrame mit Zeilen für jede Speise, Spalten:  BestellID, Status\n",
    "# "
   ]
  },
  {
   "cell_type": "code",
   "execution_count": null,
   "metadata": {},
   "outputs": [],
   "source": [
    "# Funktion Bestellungen zu stornieren\n",
    "# Bestellstatus aktualisieren aus storno\n"
   ]
  },
  {
   "cell_type": "code",
   "execution_count": null,
   "metadata": {},
   "outputs": [],
   "source": [
    "# Bezahlfunktion\n",
    "# Bestellstatus: bezahlt"
   ]
  },
  {
   "cell_type": "code",
   "execution_count": null,
   "metadata": {},
   "outputs": [],
   "source": [
    "# Funktion Rechnung generieren\n",
    "# NettoBruttoRechner\n",
    "# Gerichte, Nettopreis, Menge, MwSt., Bruttopreis, sowie evtl. Trinkgeld"
   ]
  }
 ],
 "metadata": {
  "kernelspec": {
   "display_name": "DataCraft",
   "language": "python",
   "name": "python3"
  },
  "language_info": {
   "name": "python",
   "version": "3.12.3"
  }
 },
 "nbformat": 4,
 "nbformat_minor": 2
}
