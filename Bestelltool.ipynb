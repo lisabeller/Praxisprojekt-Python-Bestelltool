{
 "cells": [
  {
   "cell_type": "code",
   "execution_count": 1,
   "metadata": {},
   "outputs": [],
   "source": [
    "import ipywidgets as w\n",
    "from ipywidgets import interact, IntSlider, FloatSlider\n",
    "import seaborn as sns\n",
    "import numpy as np\n",
    "import pandas as pd\n",
    "import matplotlib.pyplot as plt"
   ]
  },
  {
   "cell_type": "markdown",
   "metadata": {},
   "source": [
    "# Aufgabe 2 - Restaurant Bestelltool"
   ]
  },
  {
   "cell_type": "markdown",
   "metadata": {},
   "source": [
    "### Speisekarte"
   ]
  },
  {
   "cell_type": "code",
   "execution_count": null,
   "metadata": {},
   "outputs": [],
   "source": [
    "# Funktion zum Laden von Speisekarte"
   ]
  },
  {
   "cell_type": "code",
   "execution_count": null,
   "metadata": {},
   "outputs": [],
   "source": [
    "# Funktion zum Anzeigen der Speisekarte"
   ]
  },
  {
   "cell_type": "markdown",
   "metadata": {},
   "source": [
    "### Bestellungen\n",
    "\n",
    "- ID\n",
    "- Datum\n",
    "- Tischnummer\n",
    "- SpeiseID\n",
    "- Menge\n",
    "- Status"
   ]
  },
  {
   "cell_type": "code",
   "execution_count": 5,
   "metadata": {},
   "outputs": [
    {
     "data": {
      "application/vnd.jupyter.widget-view+json": {
       "model_id": "19729528ef8e401c8c8368a0202f3bfd",
       "version_major": 2,
       "version_minor": 0
      },
      "text/plain": [
       "interactive(children=(IntsInput(value=[], description='SpeiseID'), Dropdown(description='Tischnummer', options…"
      ]
     },
     "metadata": {},
     "output_type": "display_data"
    },
    {
     "data": {
      "text/plain": [
       "<function __main__.bestellung(speise_id, tischnummer, menge, bestellstatus)>"
      ]
     },
     "execution_count": 5,
     "metadata": {},
     "output_type": "execute_result"
    }
   ],
   "source": [
    "\n",
    "# Funktion neue Bestellung\n",
    "# Eingabe: SpeiseID, Tischnummer, Menge, Bestellstatus(offen)\n",
    "# Ausgabe: DataFrame mit Zeilen für jede Speise, Spalten:  BestellID, Status\n",
    "# \n",
    "def bestellung(speise_id, tischnummer, menge, bestellstatus):\n",
    "    \"\"\"Erstellt ein Dictionary mit Informationen über die Bestellung.\n",
    "\n",
    "    Args:\n",
    "        SpeiseID (int): Die SpeiseID vergibt eine Nummer zur zuordnung der \n",
    "        Speise.\n",
    "        Tischnummer (int): Die Nummer vom Tisch der bestellenden Person.\n",
    "        Menge (int): Anzahl der Speisen.\n",
    "        Bestellstatus (str): Der Status der Bestellung(z.B. \"offen\", \"bezahlt\",\n",
    "        \"storno).\n",
    "\n",
    "    Returns:\n",
    "        dict: Ein Dictionary mit den Informationen über die Bestellung.\n",
    "              Die Schlüssel sind \"SpeiseID\", \"Tischnummer\",\n",
    "              \"Menge\" und \"Bestellstatus\".\n",
    "\n",
    "    Example:\n",
    "        >>> infos = bestellungen(01, 15, 2, \"offen\")\n",
    "        >>> print(person)\n",
    "        {'SpeiseID': '01', 'Tischnummer': 15, 'Menge': 2,\n",
    "          'Bestellstatus': 'offen'}\n",
    "    \"\"\"\n",
    "    infos= {\n",
    "        \"SpeiseID\": speise_id,\n",
    "        \"Tischnummer\": tischnummer,\n",
    "        \"Menge\": menge,\n",
    "        \"Bestellstatus\": bestellstatus\n",
    "     \n",
    "     }\n",
    "    return infos\n",
    "speise_id_widget = w.IntsInput(description=\"SpeiseID\")\n",
    "\n",
    "tischnummer_widget= w.Dropdown(options=[1,2,3,4,5,6,7,8,9,10,11,12,13,14,15],\n",
    "                               value=1,\n",
    "                               description=\"Tischnummer\")\n",
    "\n",
    "menge_widget = w.IntSlider(min=1, max=100, step=1,value=1, description=\"Menge\")\n",
    "\n",
    "bestellstatus_widget= w.Dropdown(options=[\"offen\", \"bezahlt\", \"storno\"],\n",
    "                                 value=\"offen\", \n",
    "                                 description=\"Bestellstatus\")\n",
    "\n",
    "w.interact(bestellung,speise_id=speise_id_widget, \n",
    "          tischnummer=tischnummer_widget, \n",
    "          menge=menge_widget,\n",
    "          bestellstatus=bestellstatus_widget)\n"
   ]
  },
  {
   "cell_type": "code",
   "execution_count": null,
   "metadata": {},
   "outputs": [],
   "source": [
    "# Funktion Bestellungen zu stornieren\n",
    "# Bestellstatus aktualisieren aus storno\n"
   ]
  },
  {
   "cell_type": "code",
   "execution_count": null,
   "metadata": {},
   "outputs": [],
   "source": [
    "# Bezahlfunktion\n",
    "# Bestellstatus: bezahlt"
   ]
  },
  {
   "cell_type": "code",
   "execution_count": null,
   "metadata": {},
   "outputs": [],
   "source": [
    "# Funktion Rechnung generieren\n",
    "# NettoBruttoRechner\n",
    "# Gerichte, Nettopreis, Menge, MwSt., Bruttopreis, sowie evtl. Trinkgeld"
   ]
  }
 ],
 "metadata": {
  "kernelspec": {
   "display_name": "DataCraft",
   "language": "python",
   "name": "python3"
  },
  "language_info": {
   "codemirror_mode": {
    "name": "ipython",
    "version": 3
   },
   "file_extension": ".py",
   "mimetype": "text/x-python",
   "name": "python",
   "nbconvert_exporter": "python",
   "pygments_lexer": "ipython3",
   "version": "3.11.4"
  }
 },
 "nbformat": 4,
 "nbformat_minor": 2
}
