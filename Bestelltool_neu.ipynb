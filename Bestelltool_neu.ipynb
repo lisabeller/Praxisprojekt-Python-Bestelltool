{
 "cells": [
  {
   "cell_type": "markdown",
   "metadata": {},
   "source": [
    "# Aufgabe 2 - Restaurant Bestelltool"
   ]
  },
  {
   "cell_type": "code",
   "execution_count": 1,
   "metadata": {},
   "outputs": [],
   "source": [
    "# Importe\n",
    "import ipywidgets as w\n",
    "from ipywidgets import interact, IntSlider, FloatSlider\n",
    "import seaborn as sns\n",
    "import numpy as np\n",
    "import pandas as pd\n",
    "import matplotlib.pyplot as plt"
   ]
  },
  {
   "cell_type": "markdown",
   "metadata": {},
   "source": [
    "### Speisekarte"
   ]
  },
  {
   "cell_type": "code",
   "execution_count": 2,
   "metadata": {},
   "outputs": [
    {
     "name": "stdout",
     "output_type": "stream",
     "text": [
      "Die Datei 'Speisekarte.csv' wurde nicht gefunden.\n"
     ]
    }
   ],
   "source": [
    "# Funktion zum Laden von Speisekarte\n",
    "def speisekarte_laden():\n",
    "    \"\"\"\n",
    "    Lädt die Speisekarte aus einer CSV-Datei.\n",
    "\n",
    "    Args:\n",
    "        Name der CSV-Datei, die die Speisekarte enthält.\n",
    "\n",
    "    Returns:\n",
    "        pandas.DataFrame: Ein DataFrame, das die Speisekarte enthält, wobei die Speisen-Nummer der Zeilen-Index ist.\n",
    "        None: Wenn die Datei nicht gefunden wird.\n",
    "    \"\"\"\n",
    "    \n",
    "    try:\n",
    "        speisekarte = pd.read_csv(\"Speisekarte.csv\" , \n",
    "                                  sep=\";\", \n",
    "                                  index_col=\"SpeiseID\")\n",
    "        return speisekarte\n",
    "    \n",
    "    except FileNotFoundError:\n",
    "        print(\"Die Datei 'Speisekarte.csv' wurde nicht gefunden.\")\n",
    "        return None\n",
    "    \n",
    "# Beispiel: Speisekarte laden\n",
    "speisekarte = speisekarte_laden()"
   ]
  },
  {
   "cell_type": "code",
   "execution_count": 3,
   "metadata": {},
   "outputs": [
    {
     "name": "stdout",
     "output_type": "stream",
     "text": [
      "Speisekarte konnte nicht geladen werden.\n"
     ]
    }
   ],
   "source": [
    "# Funktion zum Anzeigen der Speisekarte\n",
    "def speisekarte_zeigen(speisekarte):\n",
    "    \"\"\"\n",
    "    Zeigt die geladene Speisekarte an.\n",
    "\n",
    "    Args:\n",
    "        speisekarte (pandas.DataFrame): Ein DataFrame, das die Speisekarte enthält.\n",
    "\n",
    "    Returns:\n",
    "        None\n",
    "    \"\"\"\n",
    "    \n",
    "    if speisekarte is not None:\n",
    "        return speisekarte\n",
    "    else:\n",
    "        print(\"Speisekarte konnte nicht geladen werden.\")\n",
    "\n",
    "# Beispiel: Speisekarte anzeigen\n",
    "speisekarte_zeigen(speisekarte)"
   ]
  },
  {
   "cell_type": "markdown",
   "metadata": {},
   "source": [
    "### Bestellungen\n",
    "\n",
    "- ID\n",
    "- Datum\n",
    "- Tischnummer\n",
    "- SpeiseID\n",
    "- Menge\n",
    "- Status"
   ]
  },
  {
   "cell_type": "code",
   "execution_count": 4,
   "metadata": {},
   "outputs": [],
   "source": [
    "# DataFrame für alle Bestellungen\n",
    "bestellungen_df = pd.DataFrame(columns=[\"BestellID\", \"Datum\", \"Tischnummer\", \"SpeiseID\", \"Menge\", \"Status\"])"
   ]
  },
  {
   "cell_type": "code",
   "execution_count": 5,
   "metadata": {},
   "outputs": [
    {
     "data": {
      "application/vnd.jupyter.widget-view+json": {
       "model_id": "e67d03774a414b3ea86e53c1e1c94ef3",
       "version_major": 2,
       "version_minor": 0
      },
      "text/plain": [
       "interactive(children=(IntsInput(value=[], description='SpeiseID'), Dropdown(description='Tischnummer', options…"
      ]
     },
     "metadata": {},
     "output_type": "display_data"
    },
    {
     "data": {
      "text/plain": [
       "<function __main__.bestellung(speise_id, tischnummer, menge, bestellstatus)>"
      ]
     },
     "execution_count": 5,
     "metadata": {},
     "output_type": "execute_result"
    }
   ],
   "source": [
    "# Funktion neue Bestellung\n",
    "# Eingabe: SpeiseID, Tischnummer, Menge, Bestellstatus(offen)\n",
    "# Ausgabe: DataFrame mit Zeilen für jede Speise, Spalten:  BestellID, Status\n",
    "\n",
    "def bestellung(speise_id, tischnummer, menge, bestellstatus):\n",
    "    \"\"\"Erstellt ein Dictionary mit Informationen über die Bestellung.\n",
    "\n",
    "    Args:\n",
    "        SpeiseID (int): Die SpeiseID vergibt eine Nummer zur zuordnung der \n",
    "        Speise.\n",
    "        Tischnummer (int): Die Nummer vom Tisch der bestellenden Person.\n",
    "        Menge (int): Anzahl der Speisen.\n",
    "        Bestellstatus (str): Der Status der Bestellung(z.B. \"offen\", \"bezahlt\",\n",
    "        \"storno).\n",
    "\n",
    "    Returns:\n",
    "        dict: Ein Dictionary mit den Informationen über die Bestellung.\n",
    "              Die Schlüssel sind \"SpeiseID\", \"Tischnummer\",\n",
    "              \"Menge\" und \"Bestellstatus\".\n",
    "\n",
    "    Example:\n",
    "        >>> infos = bestellungen(01, 15, 2, \"offen\")\n",
    "        >>> print(person)\n",
    "        {'SpeiseID': '01', 'Tischnummer': 15, 'Menge': 2,\n",
    "          'Bestellstatus': 'offen'}\n",
    "    \"\"\"\n",
    "    infos= {\n",
    "        \"SpeiseID\": speise_id,\n",
    "        \"Tischnummer\": tischnummer,\n",
    "        \"Menge\": menge,\n",
    "        \"Bestellstatus\": bestellstatus\n",
    "     \n",
    "     }\n",
    "    return infos\n",
    "speise_id_widget = w.IntsInput(description=\"SpeiseID\")\n",
    "\n",
    "tischnummer_widget= w.Dropdown(options=[1,2,3,4,5,6,7,8,9,10,11,12,13,14,15],\n",
    "                               value=1,\n",
    "                               description=\"Tischnummer\")\n",
    "\n",
    "menge_widget = w.IntSlider(min=1, max=100, step=1,value=1, description=\"Menge\")\n",
    "\n",
    "bestellstatus_widget= w.Dropdown(options=[\"offen\", \"bezahlt\", \"storno\"],\n",
    "                                 value=\"offen\", \n",
    "                                 description=\"Bestellstatus\")\n",
    "\n",
    "w.interact(bestellung,speise_id=speise_id_widget, \n",
    "          tischnummer=tischnummer_widget, \n",
    "          menge=menge_widget,\n",
    "          bestellstatus=bestellstatus_widget)"
   ]
  },
  {
   "cell_type": "code",
   "execution_count": 6,
   "metadata": {},
   "outputs": [],
   "source": [
    "# Einzelne Bestellungen zu DataFrame Bestellungen_df hinzufügen\n"
   ]
  },
  {
   "cell_type": "code",
   "execution_count": 7,
   "metadata": {},
   "outputs": [
    {
     "ename": "SyntaxError",
     "evalue": "incomplete input (672243248.py, line 5)",
     "output_type": "error",
     "traceback": [
      "\u001b[1;36m  Cell \u001b[1;32mIn[7], line 5\u001b[1;36m\u001b[0m\n\u001b[1;33m    \u001b[0m\n\u001b[1;37m    ^\u001b[0m\n\u001b[1;31mSyntaxError\u001b[0m\u001b[1;31m:\u001b[0m incomplete input\n"
     ]
    }
   ],
   "source": [
    "# Funktion Bestellungen zu stornieren\n",
    "# Bestellstatus aktualisieren aus storno\n",
    "\n",
    "def bestellung_storno(bestellID, bestellungen_df):\n",
    "    \n"
   ]
  },
  {
   "cell_type": "code",
   "execution_count": null,
   "metadata": {},
   "outputs": [],
   "source": [
    "# Bezahlfunktion\n",
    "# Bestellstatus: bezahlt"
   ]
  },
  {
   "cell_type": "code",
   "execution_count": null,
   "metadata": {},
   "outputs": [],
   "source": [
    "# Funktion Rechnung generieren\n",
    "def bestellung_bezahlen(bestellID, bestellungen_df, speisekarte):\n",
    "\n",
    "\n",
    "# NettoBruttoRechner\n",
    "# Gerichte, Nettopreis, Menge, MwSt., Bruttopreis, sowie evtl. Trinkgeld"
   ]
  },
  {
   "cell_type": "code",
   "execution_count": null,
   "metadata": {},
   "outputs": [],
   "source": [
    "# Interface\n",
    "# widgets\n",
    "# streamlit, optional "
   ]
  }
 ],
 "metadata": {
  "kernelspec": {
   "display_name": "DataCraft",
   "language": "python",
   "name": "python3"
  },
  "language_info": {
   "codemirror_mode": {
    "name": "ipython",
    "version": 3
   },
   "file_extension": ".py",
   "mimetype": "text/x-python",
   "name": "python",
   "nbconvert_exporter": "python",
   "pygments_lexer": "ipython3",
   "version": "3.12.3"
  }
 },
 "nbformat": 4,
 "nbformat_minor": 2
}
