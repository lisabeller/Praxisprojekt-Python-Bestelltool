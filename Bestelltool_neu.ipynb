{
 "cells": [
  {
   "cell_type": "markdown",
   "metadata": {},
   "source": [
    "# Aufgabe 2 - Restaurant Bestelltool"
   ]
  },
  {
   "cell_type": "code",
   "execution_count": 9,
   "metadata": {},
   "outputs": [],
   "source": [
    "# Importe\n",
    "import ipywidgets as w\n",
    "import pandas as pd\n",
    "from datetime import datetime"
   ]
  },
  {
   "cell_type": "markdown",
   "metadata": {},
   "source": [
    "### Speisekarte"
   ]
  },
  {
   "cell_type": "code",
   "execution_count": 10,
   "metadata": {},
   "outputs": [
    {
     "name": "stdout",
     "output_type": "stream",
     "text": [
      "Die Datei 'Speisekarte.csv' wurde nicht gefunden.\n"
     ]
    }
   ],
   "source": [
    "# Funktion zum Laden von Speisekarte\n",
    "def speisekarte_laden():\n",
    "    \"\"\"\n",
    "    Lädt die Speisekarte aus einer CSV-Datei.\n",
    "\n",
    "    Args:\n",
    "        Name der CSV-Datei, die die Speisekarte enthält.\n",
    "\n",
    "    Returns:\n",
    "        pandas.DataFrame: Ein DataFrame, das die Speisekarte enthält, \n",
    "        wobei die Speisen-Nummer der Zeilen-Index ist.\n",
    "        None: Wenn die Datei nicht gefunden wird.\n",
    "    \"\"\"\n",
    "    \n",
    "    try:\n",
    "        speisekarte = pd.read_csv(\"Speisekarte.csv\", \n",
    "                                  sep=\";\", \n",
    "                                  index_col=\"Speise_ID\")\n",
    "        return speisekarte\n",
    "    \n",
    "    except FileNotFoundError:\n",
    "        print(\"Die Datei 'Speisekarte.csv' wurde nicht gefunden.\")\n",
    "        return None\n",
    "    \n",
    "# Beispiel: Speisekarte laden\n",
    "speisekarte = speisekarte_laden()\n"
   ]
  },
  {
   "cell_type": "code",
   "execution_count": 11,
   "metadata": {},
   "outputs": [
    {
     "name": "stdout",
     "output_type": "stream",
     "text": [
      "Speisekarte konnte nicht geladen werden.\n"
     ]
    }
   ],
   "source": [
    "# Funktion zum Anzeigen der Speisekarte\n",
    "def speisekarte_zeigen(speisekarte):\n",
    "    \"\"\"\n",
    "    Zeigt die geladene Speisekarte an.\n",
    "\n",
    "    Args:\n",
    "        speisekarte (pandas.DataFrame): Ein DataFrame, das die Speisekarte enthält.\n",
    "\n",
    "    Returns:\n",
    "        None\n",
    "    \"\"\"\n",
    "    \n",
    "    if speisekarte is not None:\n",
    "        return speisekarte\n",
    "    else:\n",
    "        print(\"Speisekarte konnte nicht geladen werden.\")\n",
    "\n",
    "# Beispiel: Speisekarte anzeigen\n",
    "speisekarte_zeigen(speisekarte)"
   ]
  },
  {
   "cell_type": "markdown",
   "metadata": {},
   "source": [
    "### Bestellungen\n",
    "\n",
    "- ID\n",
    "- Datum\n",
    "- Tischnummer\n",
    "- SpeiseID\n",
    "- Menge\n",
    "- Status"
   ]
  },
  {
   "cell_type": "code",
   "execution_count": 12,
   "metadata": {},
   "outputs": [],
   "source": [
    "# DATAFRAME FÜR ALLE BESTELLUNGEN\n",
    "# Jede Einzelbestellung soll in neuer BestellID als Liste abgespeichert und dem \n",
    "# DataFrame \"bestellungen_df\" hinzufügt werden\n",
    "\n",
    "bestellungen_df = pd.DataFrame(columns=[\"BestellID\", \"Datum\", \"Tischnummer\", \"SpeiseID\", \"Menge\", \"Status\"])"
   ]
  },
  {
   "cell_type": "code",
   "execution_count": 13,
   "metadata": {},
   "outputs": [
    {
     "data": {
      "application/vnd.jupyter.widget-view+json": {
       "model_id": "15296b1100fa429fa37a5e9229d40529",
       "version_major": 2,
       "version_minor": 0
      },
      "text/plain": [
       "Dropdown(description='Tischnummer', options=(1, 2, 3, 4, 5, 6, 7, 8, 9, 10, 11, 12, 13, 14, 15), value=1)"
      ]
     },
     "metadata": {},
     "output_type": "display_data"
    },
    {
     "data": {
      "application/vnd.jupyter.widget-view+json": {
       "model_id": "8640fcd0faab4a1091f407b4f9278a19",
       "version_major": 2,
       "version_minor": 0
      },
      "text/plain": [
       "Dropdown(description='Bestellstatus', options=('offen', 'bezahlt', 'storno'), value='offen')"
      ]
     },
     "metadata": {},
     "output_type": "display_data"
    },
    {
     "data": {
      "application/vnd.jupyter.widget-view+json": {
       "model_id": "5b55aa4fd7ab4257ba9a1eaaca22bbed",
       "version_major": 2,
       "version_minor": 0
      },
      "text/plain": [
       "Button(description='Weitere Speise hinzufügen', style=ButtonStyle())"
      ]
     },
     "metadata": {},
     "output_type": "display_data"
    },
    {
     "data": {
      "application/vnd.jupyter.widget-view+json": {
       "model_id": "caf25e325570466a88dcd981fc610342",
       "version_major": 2,
       "version_minor": 0
      },
      "text/plain": [
       "Button(description='Bestellung aufgeben', style=ButtonStyle())"
      ]
     },
     "metadata": {},
     "output_type": "display_data"
    },
    {
     "data": {
      "application/vnd.jupyter.widget-view+json": {
       "model_id": "c1c85ba583d14e3c802cc83167a5eebe",
       "version_major": 2,
       "version_minor": 0
      },
      "text/plain": [
       "Dropdown(description='SpeiseID:', options=(100, 101, 102, 103, 104, 105, 200, 201, 202, 203, 204, 205, 300, 30…"
      ]
     },
     "metadata": {},
     "output_type": "display_data"
    },
    {
     "data": {
      "application/vnd.jupyter.widget-view+json": {
       "model_id": "9b32e5e7af1f4574b422de1b7f11dc79",
       "version_major": 2,
       "version_minor": 0
      },
      "text/plain": [
       "IntText(value=1, description='Menge:')"
      ]
     },
     "metadata": {},
     "output_type": "display_data"
    },
    {
     "name": "stdout",
     "output_type": "stream",
     "text": [
      "  BestellID                Datum Tischnummer SpeiseID Menge Status\n",
      "0         1  2024-06-04 10:29:24           1      303     1  offen\n"
     ]
    },
    {
     "data": {
      "application/vnd.jupyter.widget-view+json": {
       "model_id": "abc13ac0b1a7451baa2a42dac1080d5f",
       "version_major": 2,
       "version_minor": 0
      },
      "text/plain": [
       "Dropdown(description='SpeiseID:', options=(100, 101, 102, 103, 104, 105, 200, 201, 202, 203, 204, 205, 300, 30…"
      ]
     },
     "metadata": {},
     "output_type": "display_data"
    },
    {
     "data": {
      "application/vnd.jupyter.widget-view+json": {
       "model_id": "7cb65dac36d54b6fa2bb1e3a16d9ae04",
       "version_major": 2,
       "version_minor": 0
      },
      "text/plain": [
       "IntText(value=1, description='Menge:')"
      ]
     },
     "metadata": {},
     "output_type": "display_data"
    },
    {
     "name": "stdout",
     "output_type": "stream",
     "text": [
      "  BestellID                Datum Tischnummer SpeiseID Menge Status\n",
      "0         1  2024-06-04 10:29:24           1      303     1  offen\n",
      "1         2  2024-06-04 10:30:12           1      303     2  offen\n",
      "2         2  2024-06-04 10:30:12           1      103     1  offen\n"
     ]
    }
   ],
   "source": [
    "# FUNKTION NEUE BESTELLUNG\n",
    "# Eingabe: SpeiseID, Menge, Tischnummer, Bestellstatus(offen)\n",
    "# Funktion generiert Liste der eingebenen Bestellung \n",
    "# soll einzelne Bestellung in automatisch generierter BestellID abspeichern\n",
    "\n",
    "# FUNKTION ZUR ERSTELLUNG EINER NEUEN BESTELLUNG\n",
    "def neue_bestellung(tischnummer, speise_mengen, bestellungen_df, status=\"offen\"):\n",
    "    \"\"\"\n",
    "    Erstellt neue Bestellungen und fügt sie dem DataFrame hinzu.\n",
    "\n",
    "    Args:\n",
    "        tischnummer (int): Die Tischnummer (DropDown).\n",
    "        speise_mengen (dict): Ein Dictionary mit SpeiseID als Schlüssel und Menge als Wert.\n",
    "        bestellungen_df (pandas.DataFrame): Das DataFrame mit allen Bestellungen.\n",
    "        bestellstatus (str): Der Status der Bestellung.\n",
    "\n",
    "    Returns:\n",
    "        pandas.DataFrame: Das aktualisierte DataFrame mit allen Bestellungen.\n",
    "    \"\"\"\n",
    "    # neue leere Liste\n",
    "    neue_bestellungen = []\n",
    "\n",
    "    # for-Schleife \n",
    "    for speise_id, menge in speise_mengen.items():\n",
    "        bestellung_id = len(bestellungen_df) + 1\n",
    "        datum = datetime.now().strftime(\"%Y-%m-%d %H:%M:%S\")\n",
    "        neue_bestellungen.append([bestellung_id, \n",
    "                                  datum, tischnummer, \n",
    "                                  speise_id, menge, \n",
    "                                  status])\n",
    "\n",
    "    # Bestellung als neues DataFrame ablegen und \"bestellungen_df\" hinzufügen\n",
    "    neue_bestellungen_df = pd.DataFrame(neue_bestellungen, \n",
    "                                        columns=bestellungen_df.columns)\n",
    "    bestellungen_df = pd.concat([bestellungen_df, neue_bestellungen_df], \n",
    "                                ignore_index=True)\n",
    "    \n",
    "    return bestellungen_df\n",
    "\n",
    "# WIDGETS ERSTELLEN\n",
    "tischnummer_widget = w.Dropdown(options=[1, 2, 3, 4, 5, 6, 7, 8, 9, 10, 11, 12, 13, 14, 15],\n",
    "                                value=1,\n",
    "                                description=\"Tischnummer\")\n",
    "\n",
    "bestellstatus_widget = w.Dropdown(options=[\"offen\", \"bezahlt\", \"storno\"],\n",
    "                                  value=\"offen\", \n",
    "                                  description=\"Bestellstatus\")\n",
    "\n",
    "# Funktion zum Hinzufügen von SpeiseID und Menge per Dropdowns\n",
    "speise_widgets = []\n",
    "menge_widgets = []\n",
    "\n",
    "def add_speise_widget():\n",
    "    speise_id_widget = w.Dropdown(value=100, \n",
    "                                  options=[100, 101, 102, 103, 104, 105, \n",
    "                                           200, 201, 202, 203, 204, 205,\n",
    "                                           300, 301, 302, 303, 304, 305, \n",
    "                                           400, 401, 402, 403, 404, 405, 406, 407, 408, 409],\n",
    "                                  description='SpeiseID:')\n",
    "    menge_widget = w.IntText(value=1, description=\"Menge:\", min=1)\n",
    "    speise_widgets.append(speise_id_widget)\n",
    "    menge_widgets.append(menge_widget)\n",
    "    display(speise_id_widget, menge_widget)\n",
    "\n",
    "# Button zum Hinzufügen weiterer SpeiseID und Mengen\n",
    "add_button = w.Button(description=\"Weitere Speise hinzufügen\")\n",
    "add_button.on_click(lambda b: add_speise_widget())\n",
    "\n",
    "# Funktion zur Bestellungsaufgabe über Widgets\n",
    "def bestellung_aufgeben(tischnummer, bestellstatus):\n",
    "    \"\"\"\n",
    "    Sammelt die Werte aus allen SpeiseID- und Mengenfeldern, \n",
    "    erstellt ein Dictionary und ruft die erzeuge_bestellung Funktion auf\n",
    "\n",
    "    Args:\n",
    "      tischnummer (int): Die Tischnummer (DropDown)\n",
    "      bestellstatus (str): Der Status der Bestellung.\n",
    "        \n",
    "    \"\"\"\n",
    "    global bestellungen_df\n",
    "\n",
    "    speise_mengen = {}\n",
    "    \n",
    "    for speise_id_widget, menge_widget in zip(speise_widgets, menge_widgets):\n",
    "        speise_id = speise_id_widget.value\n",
    "        menge = menge_widget.value\n",
    "        speise_mengen[speise_id] = menge\n",
    "    \n",
    "    bestellungen_df = neue_bestellung(tischnummer, speise_mengen, bestellungen_df, bestellstatus)\n",
    "    print(bestellungen_df)\n",
    "\n",
    "# Button zum Auslösen der Bestellung\n",
    "bestellen_button = w.Button(description=\"Bestellung aufgeben\")\n",
    "bestellen_button.on_click(lambda b: bestellung_aufgeben(tischnummer_widget.value, bestellstatus_widget.value))\n",
    "\n",
    "# Widgets anzeigen\n",
    "display(tischnummer_widget, bestellstatus_widget, add_button, bestellen_button)"
   ]
  },
  {
   "cell_type": "code",
   "execution_count": 20,
   "metadata": {},
   "outputs": [
    {
     "data": {
      "text/html": [
       "<div>\n",
       "<style scoped>\n",
       "    .dataframe tbody tr th:only-of-type {\n",
       "        vertical-align: middle;\n",
       "    }\n",
       "\n",
       "    .dataframe tbody tr th {\n",
       "        vertical-align: top;\n",
       "    }\n",
       "\n",
       "    .dataframe thead th {\n",
       "        text-align: right;\n",
       "    }\n",
       "</style>\n",
       "<table border=\"1\" class=\"dataframe\">\n",
       "  <thead>\n",
       "    <tr style=\"text-align: right;\">\n",
       "      <th></th>\n",
       "      <th>BestellID</th>\n",
       "      <th>Datum</th>\n",
       "      <th>Tischnummer</th>\n",
       "      <th>SpeiseID</th>\n",
       "      <th>Menge</th>\n",
       "      <th>Status</th>\n",
       "    </tr>\n",
       "  </thead>\n",
       "  <tbody>\n",
       "    <tr>\n",
       "      <th>0</th>\n",
       "      <td>1</td>\n",
       "      <td>2024-06-04 10:29:24</td>\n",
       "      <td>1</td>\n",
       "      <td>303</td>\n",
       "      <td>1</td>\n",
       "      <td>offen</td>\n",
       "    </tr>\n",
       "    <tr>\n",
       "      <th>1</th>\n",
       "      <td>2</td>\n",
       "      <td>2024-06-04 10:30:12</td>\n",
       "      <td>1</td>\n",
       "      <td>303</td>\n",
       "      <td>2</td>\n",
       "      <td>offen</td>\n",
       "    </tr>\n",
       "    <tr>\n",
       "      <th>2</th>\n",
       "      <td>2</td>\n",
       "      <td>2024-06-04 10:30:12</td>\n",
       "      <td>1</td>\n",
       "      <td>103</td>\n",
       "      <td>1</td>\n",
       "      <td>offen</td>\n",
       "    </tr>\n",
       "  </tbody>\n",
       "</table>\n",
       "</div>"
      ],
      "text/plain": [
       "  BestellID                Datum Tischnummer SpeiseID Menge Status\n",
       "0         1  2024-06-04 10:29:24           1      303     1  offen\n",
       "1         2  2024-06-04 10:30:12           1      303     2  offen\n",
       "2         2  2024-06-04 10:30:12           1      103     1  offen"
      ]
     },
     "execution_count": 20,
     "metadata": {},
     "output_type": "execute_result"
    }
   ],
   "source": [
    "bestellungen_df"
   ]
  },
  {
   "cell_type": "code",
   "execution_count": 32,
   "metadata": {},
   "outputs": [
    {
     "data": {
      "text/plain": [
       "0    False\n",
       "1     True\n",
       "2     True\n",
       "Name: BestellID, dtype: bool"
      ]
     },
     "execution_count": 32,
     "metadata": {},
     "output_type": "execute_result"
    }
   ],
   "source": [
    "bestellungen_df[\"BestellID\"] == 2"
   ]
  },
  {
   "cell_type": "code",
   "execution_count": 54,
   "metadata": {},
   "outputs": [
    {
     "data": {
      "application/vnd.jupyter.widget-view+json": {
       "model_id": "42315cd5bd0e42ba9d38cad5c3aa16fe",
       "version_major": 2,
       "version_minor": 0
      },
      "text/plain": [
       "Dropdown(options=(1, 2, 2), value=1)"
      ]
     },
     "metadata": {},
     "output_type": "display_data"
    },
    {
     "data": {
      "application/vnd.jupyter.widget-view+json": {
       "model_id": "65dbabeb86eb49c7bdead54c5445aa64",
       "version_major": 2,
       "version_minor": 0
      },
      "text/plain": [
       "Button(description='Bestellung stonieren', style=ButtonStyle())"
      ]
     },
     "metadata": {},
     "output_type": "display_data"
    },
    {
     "data": {
      "text/html": [
       "<div>\n",
       "<style scoped>\n",
       "    .dataframe tbody tr th:only-of-type {\n",
       "        vertical-align: middle;\n",
       "    }\n",
       "\n",
       "    .dataframe tbody tr th {\n",
       "        vertical-align: top;\n",
       "    }\n",
       "\n",
       "    .dataframe thead th {\n",
       "        text-align: right;\n",
       "    }\n",
       "</style>\n",
       "<table border=\"1\" class=\"dataframe\">\n",
       "  <thead>\n",
       "    <tr style=\"text-align: right;\">\n",
       "      <th></th>\n",
       "      <th>BestellID</th>\n",
       "      <th>Datum</th>\n",
       "      <th>Tischnummer</th>\n",
       "      <th>SpeiseID</th>\n",
       "      <th>Menge</th>\n",
       "      <th>Status</th>\n",
       "    </tr>\n",
       "  </thead>\n",
       "  <tbody>\n",
       "    <tr>\n",
       "      <th>0</th>\n",
       "      <td>1</td>\n",
       "      <td>2024-06-04 10:29:24</td>\n",
       "      <td>1</td>\n",
       "      <td>303</td>\n",
       "      <td>1</td>\n",
       "      <td>offen</td>\n",
       "    </tr>\n",
       "    <tr>\n",
       "      <th>1</th>\n",
       "      <td>2</td>\n",
       "      <td>2024-06-04 10:30:12</td>\n",
       "      <td>1</td>\n",
       "      <td>303</td>\n",
       "      <td>2</td>\n",
       "      <td>storno</td>\n",
       "    </tr>\n",
       "    <tr>\n",
       "      <th>2</th>\n",
       "      <td>2</td>\n",
       "      <td>2024-06-04 10:30:12</td>\n",
       "      <td>1</td>\n",
       "      <td>103</td>\n",
       "      <td>1</td>\n",
       "      <td>storno</td>\n",
       "    </tr>\n",
       "  </tbody>\n",
       "</table>\n",
       "</div>"
      ],
      "text/plain": [
       "  BestellID                Datum Tischnummer SpeiseID Menge  Status\n",
       "0         1  2024-06-04 10:29:24           1      303     1   offen\n",
       "1         2  2024-06-04 10:30:12           1      303     2  storno\n",
       "2         2  2024-06-04 10:30:12           1      103     1  storno"
      ]
     },
     "execution_count": 54,
     "metadata": {},
     "output_type": "execute_result"
    }
   ],
   "source": [
    "# Funktion Bestellungen zu stornieren\n",
    "# Bestellstatus aktualisieren aus storno\n",
    "\n",
    "def bestellung_storno(bestellID, bestellungen_df = bestellungen_df):\n",
    "    \"\"\"\n",
    "    Funktion storniert vorhandene Bestellungen über BestellID\n",
    "\n",
    "    Args:\n",
    "        bestellID (int): Eingabe, welche BestellID Storniert werden soll\n",
    "        bestellungen_df (DataFrame): vorhandenes DataFrame\n",
    "\n",
    "    Returns:\n",
    "        Aktualisiertes DataFrame\n",
    "    \"\"\"\n",
    "    bestellungen_df.loc[bestellungen_df[\"BestellID\"] == bestellID, \"Status\"] = \"storno\"    \n",
    "    return bestellungen_df\n",
    "   \n",
    "# Dropdown Widget \n",
    "bestell_ID_widget = w.Dropdown(options=bestellungen_df[\"BestellID\"].tolist(), \n",
    "                            descriptions= \"BestellID\")\n",
    "\n",
    "# Button Widgets\n",
    "storno_button = w.Button(description=\"stornieren\")\n",
    "\n",
    "# Funktion zur Anzeige und Aktualisieren des DataFrames\n",
    "def add_storno_widget():\n",
    "    bestell_ID_widget = w.Dropdown(options=bestellungen_df[\"BestellID\"].tolist(), \n",
    "                            descriptions= \"BestellID\")\n",
    "    bestell_ID_button = w.Button(description= \"Bestellung stonieren\")\n",
    "    bestellen_button.on_click(lambda b: bestellung_storno(bestell_ID_widget.value, bestellstatus_widget.value))\n",
    "    \n",
    "    display(bestell_ID_widget, bestell_ID_button)\n",
    "    return bestellungen_df\n",
    "\n",
    "add_storno_widget()"
   ]
  },
  {
   "cell_type": "code",
   "execution_count": null,
   "metadata": {},
   "outputs": [],
   "source": [
    "# Bezahlfunktion\n",
    "# Bestellstatus: bezahlt"
   ]
  },
  {
   "cell_type": "code",
   "execution_count": null,
   "metadata": {},
   "outputs": [],
   "source": [
    "# Funktion Rechnung generieren\n",
    "# def bestellung_bezahlen(bestellID, bestellungen_df, speisekarte):\n",
    "\n",
    "\n",
    "# NettoBruttoRechner\n",
    "# Gerichte, Nettopreis, Menge, MwSt., Bruttopreis, sowie evtl. Trinkgeld"
   ]
  },
  {
   "cell_type": "code",
   "execution_count": null,
   "metadata": {},
   "outputs": [],
   "source": [
    "# Interface\n",
    "# widgets\n",
    "# streamlit, optional "
   ]
  }
 ],
 "metadata": {
  "kernelspec": {
   "display_name": "DataCraft",
   "language": "python",
   "name": "python3"
  },
  "language_info": {
   "codemirror_mode": {
    "name": "ipython",
    "version": 3
   },
   "file_extension": ".py",
   "mimetype": "text/x-python",
   "name": "python",
   "nbconvert_exporter": "python",
   "pygments_lexer": "ipython3",
   "version": "3.12.3"
  }
 },
 "nbformat": 4,
 "nbformat_minor": 2
}
